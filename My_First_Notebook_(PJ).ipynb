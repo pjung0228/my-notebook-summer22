{
  "nbformat": 4,
  "nbformat_minor": 0,
  "metadata": {
    "colab": {
      "name": "My First Notebook (PJ)",
      "provenance": [],
      "authorship_tag": "ABX9TyMZSXaPpZphJp81MAsULs34",
      "include_colab_link": true
    },
    "kernelspec": {
      "name": "python3",
      "display_name": "Python 3"
    },
    "language_info": {
      "name": "python"
    }
  },
  "cells": [
    {
      "cell_type": "markdown",
      "metadata": {
        "id": "view-in-github",
        "colab_type": "text"
      },
      "source": [
        "<a href=\"https://colab.research.google.com/github/pjung0228/my-notebook-summer22/blob/main/My_First_Notebook_(PJ).ipynb\" target=\"_parent\"><img src=\"https://colab.research.google.com/assets/colab-badge.svg\" alt=\"Open In Colab\"/></a>"
      ]
    },
    {
      "cell_type": "code",
      "execution_count": null,
      "metadata": {
        "id": "WNL6iaGK0ola"
      },
      "outputs": [],
      "source": [
        "\n"
      ]
    },
    {
      "cell_type": "code",
      "source": [
        ""
      ],
      "metadata": {
        "id": "dFa3cjhh2Xh_"
      },
      "execution_count": null,
      "outputs": []
    },
    {
      "cell_type": "code",
      "source": [
        "# This is some example Python code\n",
        "# These lines starting with \"#\" are \"comments\"\n",
        "# Remember \"#\" means something different in Markdown than it does in Pyt\")\n",
        "print (\"This is the calculatioN!\")\n",
        "x = 2 + 2\n",
        "print(x)"
      ],
      "metadata": {
        "colab": {
          "base_uri": "https://localhost:8080/"
        },
        "id": "bC8lCuQy5q0O",
        "outputId": "1f25a583-b394-4e9c-a01d-b81d2361b6f5"
      },
      "execution_count": 3,
      "outputs": [
        {
          "output_type": "stream",
          "name": "stdout",
          "text": [
            "This is the calculatioN!\n",
            "4\n"
          ]
        }
      ]
    },
    {
      "cell_type": "markdown",
      "source": [
        "This is some text\n",
        "\n",
        "We can write any language (like english)"
      ],
      "metadata": {
        "id": "jzKPWzjo2fUN"
      }
    },
    {
      "cell_type": "code",
      "source": [
        ""
      ],
      "metadata": {
        "id": "5y-zRzJG3qWH"
      },
      "execution_count": 2,
      "outputs": []
    },
    {
      "cell_type": "markdown",
      "source": [
        "# My Heading\n",
        "Writing normal sentences\n",
        "## Heading Level 2\n",
        "\n",
        "here is a list\n",
        "\n",
        "+ Item 1\n",
        "+ Item 2\n",
        "+ Item 3\n",
        "\n",
        "\n",
        "Numbered list:\n",
        "\n",
        "1. Item 1\n",
        "2. Item 2\n",
        "3. Item 3\n",
        "\n",
        "*paul jung*\n",
        "\n",
        "\n",
        ">paul jung\n",
        "\n",
        "![alt text] (image.jpg)\n",
        "\n",
        "\n",
        "This is a link: [link name](https://www.bada.tv)\n",
        "\n",
        "\n",
        "This is a code block (we'll use in README files)\"\n",
        "```\n",
        "Print(\"hello\")\n",
        "```\n",
        "Print(\"HELLO\")\n"
      ],
      "metadata": {
        "id": "meGn3H063MO8"
      }
    }
  ]
}